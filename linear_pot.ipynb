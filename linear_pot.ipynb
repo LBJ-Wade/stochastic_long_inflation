{
 "cells": [
  {
   "cell_type": "code",
   "execution_count": null,
   "metadata": {},
   "outputs": [],
   "source": [
    "SetDirectory[\"~/Documents/Univ/small_field_ternal\"];"
   ]
  },
  {
   "cell_type": "code",
   "execution_count": null,
   "metadata": {},
   "outputs": [],
   "source": [
    "SetOptions[{Plot,LogPlot,LogLinearPlot,LogLogPlot},\n",
    "           {ImageSize->Large,\n",
    "            Frame->True,\n",
    "            LabelStyle->Directive[Black,Large,FontFamily->\"Palatino\"],\n",
    "            PlotStyle->AbsoluteThickness[3]}];\n",
    "SetOptions[{ListPlot,ListLogPlot,ListLogLinearPlot,ListLogLogPlot},\n",
    "           {ImageSize->Large,\n",
    "            Frame->True,\n",
    "            LabelStyle->Directive[Black,Large,FontFamily->\"Palatino\"],\n",
    "            PlotStyle->AbsoluteThickness[3],\n",
    "            Joined->True}];\n",
    "RGBData = {\"#5E81B5\",\"#E19C24\",\"#8FB032\",\"#EB6235\",\"#8778B3\",\"#C56E1A\",\"#5D9EC7\",\"#FFBF00\",\"#A5609D\",\"#929600\",\"#E95536\",\"#6685D9\",\"#F89F13\",\"#BC5B80\",\"#47B66D\"};\n",
    "Color = Map[RGBColor,RGBData];"
   ]
  },
  {
   "cell_type": "code",
   "execution_count": null,
   "metadata": {},
   "outputs": [],
   "source": [
    "v[x_] = v0(1+c x);"
   ]
  },
  {
   "cell_type": "code",
   "execution_count": null,
   "metadata": {},
   "outputs": [
    {
     "data": {
      "text/html": [
       "<div><img alt=\"Output\" src=\"data:image/png;base64,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\"></div>"
      ]
     },
     "execution_count": 22,
     "metadata": {
      "text/html": []
     },
     "output_type": "execute_result"
    }
   ],
   "source": [
    "f1p = Integrate[1/v[y] Exp[1/v[y]-1/v[0]],{y,0,z/c}, Assumptions->{v0>0,c>0,z>0}]"
   ]
  },
  {
   "cell_type": "code",
   "execution_count": null,
   "metadata": {},
   "outputs": [
    {
     "data": {
      "text/html": [
       "<div><img alt=\"Output\" src=\"data:image/png;base64,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\"></div>"
      ]
     },
     "execution_count": 17,
     "metadata": {
      "text/html": []
     },
     "output_type": "execute_result"
    }
   ],
   "source": [
    "Expand[Simplify[Normal[Series[f1p,{v0,0,1}]],{v0>0}]]"
   ]
  },
  {
   "cell_type": "code",
   "execution_count": null,
   "metadata": {},
   "outputs": [],
   "source": []
  }
 ],
 "metadata": {
  "kernelspec": {
   "display_name": "Wolfram Language 12",
   "language": "Wolfram Language",
   "name": "wolframlanguage12"
  },
  "language_info": {
   "codemirror_mode": "python",
   "file_extension": ".m",
   "mimetype": "application/vnd.wolfram.m",
   "name": "Wolfram Language",
   "pygments_lexer": "python",
   "version": "12.0"
  }
 },
 "nbformat": 4,
 "nbformat_minor": 2
}
